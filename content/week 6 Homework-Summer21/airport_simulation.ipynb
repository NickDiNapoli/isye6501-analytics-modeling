{
 "cells": [
  {
   "cell_type": "code",
   "execution_count": 24,
   "metadata": {},
   "outputs": [],
   "source": [
    "import simpy \n",
    "import random\n",
    "import statistics\n",
    "import numpy"
   ]
  },
  {
   "cell_type": "code",
   "execution_count": 76,
   "metadata": {},
   "outputs": [
    {
     "name": "stdout",
     "output_type": "stream",
     "text": [
      "Input # of workers: 50\n",
      "Input # of queues: 20\n",
      "Running simulation... \n",
      "The average wait time is 28.163146416658165 minutes.\n"
     ]
    }
   ],
   "source": [
    "import simpy \n",
    "import random\n",
    "import statistics\n",
    "import numpy\n",
    "\n",
    "wait_times = []\n",
    "\n",
    "class Airport(object):\n",
    "    def __init__(self, env, num_workers, num_queues):\n",
    "        self.env = env\n",
    "        self.worker = simpy.Resource(env, num_workers)\n",
    "        self.queue = simpy.Resource(env, num_queues)\n",
    "        \n",
    "    def id_check(self, passenger):\n",
    "        yield self.env.timeout(random.expovariate(1.33))    \n",
    "        \n",
    "    def personal_check(self, passenger):\n",
    "        yield self.env.timeout(numpy.random.uniform(0.5, 1.0))\n",
    "        \n",
    "def go_to_airport(env, passenger, airport):\n",
    "    arrival_time = env.now\n",
    "\n",
    "    with airport.worker.request() as request:\n",
    "        yield request\n",
    "        yield env.process(airport.id_check(passenger))\n",
    "\n",
    "    with airport.queue.request() as request:\n",
    "        yield request\n",
    "        yield env.process(airport.personal_check(passenger))\n",
    "    \n",
    "    wait_times.append(env.now - arrival_time)\n",
    "\n",
    "def run_airport(env, num_workers, num_queues):\n",
    "    airport = Airport(env, num_workers, num_queues)\n",
    "    \n",
    "    for passenger in range(1):\n",
    "        env.process(go_to_airport(env, passenger, airport))\n",
    "\n",
    "    while True:\n",
    "        yield env.timeout(random.expovariate(50))\n",
    "        passenger += 1\n",
    "        env.process(go_to_airport(env, passenger, airport))\n",
    "\n",
    "def avg_wait_time(wait_times):\n",
    "    average_wait = statistics.mean(wait_times)\n",
    "    return average_wait\n",
    "\n",
    "def get_user_input():\n",
    "    num_workers = input(\"Input # of workers: \")\n",
    "    num_queues = input(\"Input # of queues: \")\n",
    "\n",
    "    params = [num_workers, num_queues]\n",
    "    if all(str(i).isdigit() for i in params):  # Check input is valid\n",
    "        params = [int(x) for x in params]\n",
    "    else:\n",
    "        print(\n",
    "            \"Could not parse input. The simulation will use default values:\",\n",
    "            \"\\n1 cashier, 1 server, 1 usher.\",\n",
    "        )\n",
    "        params = [1, 1]\n",
    "    return params\n",
    "\n",
    "def main():\n",
    "    # Setup\n",
    "    random.seed(42)\n",
    "    num_workers, num_queues = get_user_input()\n",
    "    \n",
    "    # Run the simulation\n",
    "    env = simpy.Environment()\n",
    "    env.process(run_airport(env, num_workers, num_queues))\n",
    "    env.run(until=120)\n",
    "\n",
    "    # View the results\n",
    "    mins = avg_wait_time(wait_times)\n",
    "    print(\n",
    "      \"Running simulation...\",\n",
    "      f\"\\nThe average wait time is {mins} minutes.\",\n",
    "    )\n",
    "        \n",
    "main()\n",
    "        "
   ]
  },
  {
   "cell_type": "code",
   "execution_count": 74,
   "metadata": {},
   "outputs": [
    {
     "data": {
      "text/plain": [
       "0.7551111328258333"
      ]
     },
     "execution_count": 74,
     "metadata": {},
     "output_type": "execute_result"
    }
   ],
   "source": [
    "#random.expovariate(1.33)\n",
    "random.expovariate(.75)"
   ]
  },
  {
   "cell_type": "code",
   "execution_count": null,
   "metadata": {},
   "outputs": [],
   "source": [
    "#### def clock(env, name, tick):\n",
    "    while True:\n",
    "        print(name, env.now)\n",
    "        yield env.timeout(tick)"
   ]
  },
  {
   "cell_type": "code",
   "execution_count": 4,
   "metadata": {},
   "outputs": [
    {
     "name": "stdout",
     "output_type": "stream",
     "text": [
      "fast 0\n",
      "slow 0\n",
      "fast 0.5\n",
      "slow 1\n",
      "fast 1.0\n",
      "fast 1.5\n"
     ]
    }
   ],
   "source": [
    "env = simpy.Environment()\n",
    "env.process(clock(env, 'fast', 0.5))\n",
    "env.process(clock(env, 'slow', 1))\n",
    "env.run(until=2)"
   ]
  },
  {
   "cell_type": "code",
   "execution_count": null,
   "metadata": {},
   "outputs": [],
   "source": []
  }
 ],
 "metadata": {
  "kernelspec": {
   "display_name": "Python 3",
   "language": "python",
   "name": "python3"
  },
  "language_info": {
   "codemirror_mode": {
    "name": "ipython",
    "version": 3
   },
   "file_extension": ".py",
   "mimetype": "text/x-python",
   "name": "python",
   "nbconvert_exporter": "python",
   "pygments_lexer": "ipython3",
   "version": "3.7.4"
  }
 },
 "nbformat": 4,
 "nbformat_minor": 2
}
